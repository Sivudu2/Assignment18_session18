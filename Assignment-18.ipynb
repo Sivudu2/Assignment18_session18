{
 "cells": [
  {
   "cell_type": "code",
   "execution_count": 14,
   "metadata": {},
   "outputs": [
    {
     "name": "stdout",
     "output_type": "stream",
     "text": [
      "[40, 44, 53, 57, 60, 54, 46, 41]\n",
      "      Sex          Edu  Marks\n",
      "0    Male  High School     40\n",
      "1    Male    Bachelors     44\n",
      "2    Male      Masters     53\n",
      "3    Male        Ph.d.     57\n",
      "4  Female  High School     60\n",
      "5  Female    Bachelors     54\n",
      "6  Female      Masters     46\n",
      "7  Female        Ph.d.     41\n",
      "8.006066246262538\n",
      "Critical value\n",
      "7.814727903251179\n",
      "P value\n",
      "0.04588650089174717\n"
     ]
    },
    {
     "data": {
      "text/plain": [
       "(8.006066246262538,\n",
       " 0.045886500891747214,\n",
       " 3,\n",
       " array([[49.86835443, 50.88607595, 50.37721519, 49.86835443],\n",
       "        [48.13164557, 49.11392405, 48.62278481, 48.13164557]]))"
      ]
     },
     "execution_count": 14,
     "metadata": {},
     "output_type": "execute_result"
    }
   ],
   "source": [
    "#Problem Statement 1:\n",
    "#Is gender independent of education level? A random sample of 395 people were\n",
    "#surveyed and each person was asked to report the highest education level they\n",
    "#obtained. The data that resulted from the survey is summarized in the following table:\n",
    "#High School Bachelors Masters Ph.d. Total\n",
    "#Female 60 54 46 41 201\n",
    "#Male 40 44 53 57 194\n",
    "#Total 100 98 99 98 395\n",
    "#Question: Are gender and education level dependent at 5% level of significance? In\n",
    "#other words, given the data collected above, is there a relationship between the gender\n",
    "#of an individual and the level of education that they have obtained?\n",
    "\n",
    "#Chi-square test:-\n",
    "#H0: null hypothesis : Gender and education are dependent.\n",
    "#H1: alternative hypothesis: Gender and education are independent. \n",
    "        \n",
    "        \n",
    "import numpy as np\n",
    "import pandas as pd\n",
    "import scipy.stats  as stats\n",
    "\n",
    "male_list = [40, 44, 53, 57]\n",
    "female_list= [60, 54, 46, 41]\n",
    "\n",
    "#if we take take gender and education are together.\n",
    "h = [40,60]\n",
    "b = [44,54]\n",
    "m = [53,46]\n",
    "p = [57,41]\n",
    "marks = [40, 44, 53, 57,60, 54, 46, 41]\n",
    "print(marks)\n",
    "sex =  ['Male','Male','Male','Male','Female','Female','Female','Female']\n",
    "edu = ['High School', 'Bachelors', 'Masters', 'Ph.d.','High School', 'Bachelors', 'Masters', 'Ph.d.']\n",
    "df_edu = pd.DataFrame({\"Sex\":sex,\"Edu\":edu,\"Marks\":marks})\n",
    "print(df_edu)\n",
    "cross_tab = pd.crosstab([df_edu.Sex,df_edu.Marks],df_edu.Edu,margins=True)\n",
    "df2 = pd.crosstab(df_edu.Sex, df_edu.Edu,df_edu.Marks, aggfunc=\"sum\",margins=True)\n",
    "df2\n",
    "df2.columns = [\"Bachelors\",\"High School\",\"Masters\",\"Ph.d.\",\"row_totals\"]        \n",
    " \n",
    "df2.index = [\"Female\",\"Male\",\"col_totals\"] \n",
    "observed = df2.iloc[0:2,0:4]\n",
    "expected =  np.outer(df2[\"row_totals\"][0:2],\n",
    "                     df2.loc[\"col_totals\"][0:4]) / 395.0\n",
    "expected = pd.DataFrame(expected)\n",
    "expected.columns = [\"Bachelors\",\"High School\",\"Masters\",\"Ph.d.\"]\n",
    "expected.index = [\"Female\",\"Male\"]\n",
    "chi_squared_stat = (((observed-expected)**2)/expected).sum().sum()\n",
    "\n",
    "print(chi_squared_stat)\n",
    "\n",
    "crit = stats.chi2.ppf(q = 0.95, # Find the critical value for 95% confidence*\n",
    "                      df = 3)   # *\n",
    "\n",
    "print(\"Critical value\")\n",
    "print(crit)\n",
    "\n",
    "p_value = 1 - stats.chi2.cdf(x=chi_squared_stat,  # Find the p-value\n",
    "                             df=3)\n",
    "print(\"P value\")\n",
    "print(p_value)\n",
    "stats.chi2_contingency(observed= observed)"
   ]
  },
  {
   "cell_type": "code",
   "execution_count": 15,
   "metadata": {},
   "outputs": [
    {
     "ename": "SyntaxError",
     "evalue": "invalid syntax (<ipython-input-15-286823d085ad>, line 2)",
     "output_type": "error",
     "traceback": [
      "\u001b[1;36m  File \u001b[1;32m\"<ipython-input-15-286823d085ad>\"\u001b[1;36m, line \u001b[1;32m2\u001b[0m\n\u001b[1;33m    The output shows the chi-square statistic = 8, the p-value as 0.045 and the degrees of freedom as 3 followed\u001b[0m\n\u001b[1;37m             ^\u001b[0m\n\u001b[1;31mSyntaxError\u001b[0m\u001b[1;31m:\u001b[0m invalid syntax\n"
     ]
    }
   ],
   "source": [
    "\n",
    "#The output shows the chi-square statistic = 8, the p-value as 0.045 and the degrees of freedom as 3 followed\n",
    "#by the expected counts.\n",
    "#The critical value with 3 degree of freedom is 7.815. Since 8.006 > 7.815, therefore we reject the null \n",
    "#hypothesis and conclude that the education level depends on gender at a 5% level of significance."
   ]
  },
  {
   "cell_type": "code",
   "execution_count": 1,
   "metadata": {},
   "outputs": [
    {
     "name": "stdout",
     "output_type": "stream",
     "text": [
      "F Statistic value 9.747205503009463 , p-value 0.0030597541434430556\n",
      "True\n"
     ]
    }
   ],
   "source": [
    "#Problem Statement 2:\n",
    "\n",
    "#Using the following data, perform a oneway analysis of variance using α=.05. Write up the results in APA format.\n",
    "\n",
    "#[Group1: 51, 45, 33, 45, 67] [Group2: 23, 43, 23, 43, 45] [Group3: 56, 76, 74, 87, 56]\n",
    "\n",
    "import scipy.stats as stats\n",
    "Gr1 = [51, 45, 33, 45, 67]\n",
    "Gr2 = [23, 43, 23, 43, 45]\n",
    "Gr3 = [56, 76, 74, 87, 56]\n",
    "\n",
    "stcs, pvalue = stats.f_oneway(Gr1,Gr2,Gr3)\n",
    "print(\"F Statistic value {} , p-value {}\".format(stcs,pvalue))\n",
    "if pvalue < 0.05:\n",
    "    print('True')\n",
    "else:\n",
    "    print('False')"
   ]
  },
  {
   "cell_type": "code",
   "execution_count": 4,
   "metadata": {},
   "outputs": [
    {
     "name": "stdout",
     "output_type": "stream",
     "text": [
      "F Test  :  4.0\n"
     ]
    }
   ],
   "source": [
    "#Problem Statement 3:\n",
    "\n",
    "#Calculate F Test for given 10, 20, 30, 40, 50 and 5,10,15, 20, 25. For 10, 20, 30, 40, 50:\n",
    "import numpy as np\n",
    "Gr1 = [10, 20, 30, 40, 50]\n",
    "Gr2 = [5,10,15, 20, 25]\n",
    "\n",
    "mn_1 = np.mean(Gr1)\n",
    "mn_2 = np.mean(Gr2)\n",
    "\n",
    "Gr1_sub_mn1 = []\n",
    "Gr2_sub_mn2 = []\n",
    "ad1 = 0\n",
    "ad2 = 0\n",
    "for it in Gr1:\n",
    "    ad1 += (it - mn_1)**2\n",
    "for it in Gr2:\n",
    "    ad2 += (it - mn_2)**2\n",
    "vr1 = ad1/(len(Gr1)-1)\n",
    "vr2 = ad2/(len(Gr2)-1)\n",
    "\n",
    "F_Tst = vr1/vr2\n",
    "print(\"F Test  : \",F_Tst)\n",
    "\n",
    "    "
   ]
  },
  {
   "cell_type": "code",
   "execution_count": null,
   "metadata": {},
   "outputs": [],
   "source": []
  }
 ],
 "metadata": {
  "kernelspec": {
   "display_name": "Python 3",
   "language": "python",
   "name": "python3"
  },
  "language_info": {
   "codemirror_mode": {
    "name": "ipython",
    "version": 3
   },
   "file_extension": ".py",
   "mimetype": "text/x-python",
   "name": "python",
   "nbconvert_exporter": "python",
   "pygments_lexer": "ipython3",
   "version": "3.6.5"
  }
 },
 "nbformat": 4,
 "nbformat_minor": 2
}
